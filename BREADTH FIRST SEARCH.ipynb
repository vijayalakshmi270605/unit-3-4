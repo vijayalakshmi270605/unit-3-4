{
 "cells": [
  {
   "cell_type": "markdown",
   "id": "fe50c9aa",
   "metadata": {},
   "source": [
    "# BREADTH FIRST SEARCH"
   ]
  },
  {
   "cell_type": "code",
   "execution_count": 9,
   "id": "d783653d",
   "metadata": {},
   "outputs": [],
   "source": [
    "graph={'PKC':['STADIUM','PARKING','TREE'],\n",
    "      'STADIUM':['MAIN BLOCK'],\n",
    "      'PARKING':['JUNCTION'],\n",
    "      'JUNCTION':['ENTRANCE','MAIN BLOCK'],\n",
    "      'ENTRANCE':['JUNCTION'],\n",
    "       'MAIN BLOCK':['JUNCTION'],\n",
    "       'TREE':['PKC']}"
   ]
  },
  {
   "cell_type": "code",
   "execution_count": 10,
   "id": "41e5b059",
   "metadata": {},
   "outputs": [],
   "source": [
    "from collections import deque \n",
    "def BFS(graph,start,goal):\n",
    "    visited=[]\n",
    "    queue=deque([start])\n",
    "    while queue:\n",
    "        node=queue.popleft()\n",
    "        if node not in visited:\n",
    "            visited.append(node)\n",
    "            print(\"i have visited:\",node)\n",
    "            neighbournode=graph[node]\n",
    "            if node==goal:\n",
    "                print(\" i have reached the goal, the path i travelled is\",visited)\n",
    "            for neighbours in neighbournode:\n",
    "                queue.append(neighbours)\n",
    "                \n",
    "            "
   ]
  },
  {
   "cell_type": "code",
   "execution_count": 11,
   "id": "03beafae",
   "metadata": {
    "scrolled": true
   },
   "outputs": [
    {
     "name": "stdout",
     "output_type": "stream",
     "text": [
      "i have visited: STADIUM\n",
      "i have visited: MAIN BLOCK\n",
      "i have visited: JUNCTION\n",
      " i have reached the goal, the path i travelled is ['STADIUM', 'MAIN BLOCK', 'JUNCTION']\n",
      "i have visited: ENTRANCE\n"
     ]
    }
   ],
   "source": [
    "BFS(graph,'STADIUM','JUNCTION')"
   ]
  },
  {
   "cell_type": "markdown",
   "id": "f57276fc",
   "metadata": {},
   "source": [
    "# DEPTH FIRST SEARCH\n"
   ]
  },
  {
   "cell_type": "code",
   "execution_count": 6,
   "id": "e382cc46",
   "metadata": {},
   "outputs": [],
   "source": [
    "graph={'home':['sinthamani'],\n",
    "      'sinthamani':['junction'],\n",
    "      'junction':['rdo office','master hotel','kamaraj silai'],\n",
    "      'rdo office':['junction'],\n",
    "      'master hotel':['junction'],\n",
    "      'kamaraj silai':['coir board'],\n",
    "      'coir board':['PMIST'],\n",
    "      'PMIST':['busstand','vallam'],\n",
    "      'busstand':[],'vallam':[]}"
   ]
  },
  {
   "cell_type": "markdown",
   "id": "a3090ed9",
   "metadata": {},
   "source": [
    "# task"
   ]
  },
  {
   "cell_type": "code",
   "execution_count": 9,
   "id": "4497d7fa",
   "metadata": {},
   "outputs": [],
   "source": [
    "from collections import deque\n",
    "def BFS(graph,start,goal):\n",
    "    visited=[]\n",
    "    queue=deque([start])\n",
    "    while queue:\n",
    "        node=queue.popleft()\n",
    "        if node not in visited:\n",
    "            visited.append(node)\n",
    "            print(\"i have visited:\",node)\n",
    "            neighbournode=graph[node]\n",
    "            if node==goal:\n",
    "                print(\"i have reached the goal,the path i have travelled is\",visited)\n",
    "            for neighbours in neighbournode:\n",
    "                queue.append(neighbours)"
   ]
  },
  {
   "cell_type": "code",
   "execution_count": 12,
   "id": "748c1162",
   "metadata": {},
   "outputs": [
    {
     "name": "stdout",
     "output_type": "stream",
     "text": [
      "i have visited: sinthamani\n",
      "i have visited: junction\n",
      "i have visited: rdo office\n",
      "i have visited: master hotel\n",
      "i have visited: kamaraj silai\n",
      "i have visited: coir board\n",
      "i have visited: PMIST\n",
      "i have reached the goal,the path i have travelled is ['sinthamani', 'junction', 'rdo office', 'master hotel', 'kamaraj silai', 'coir board', 'PMIST']\n",
      "i have visited: busstand\n",
      "i have visited: vallam\n"
     ]
    }
   ],
   "source": [
    "BFS(graph,'sinthamani','PMIST')"
   ]
  },
  {
   "cell_type": "code",
   "execution_count": 13,
   "id": "09615aa8",
   "metadata": {},
   "outputs": [],
   "source": [
    "from queue import LifoQueue\n",
    "stack=LifoQueue\n",
    "def dfs(graph,start,goal,visited):\n",
    "    stack=[start]\n",
    "    while stack:\n",
    "        node=stack.pop()\n",
    "        if node not in visited:\n",
    "            visited.append(node)\n",
    "            if node==goal:\n",
    "                print(visited)\n",
    "                for neighbours in graph[node]:\n",
    "                    dfs(graph,neighbours,goal,visited)"
   ]
  },
  {
   "cell_type": "code",
   "execution_count": 15,
   "id": "60f3f206",
   "metadata": {},
   "outputs": [],
   "source": [
    "dfs(graph,'sinthamani','PMIST',[])"
   ]
  },
  {
   "cell_type": "code",
   "execution_count": null,
   "id": "38f067cf",
   "metadata": {},
   "outputs": [],
   "source": []
  }
 ],
 "metadata": {
  "kernelspec": {
   "display_name": "Python 3 (ipykernel)",
   "language": "python",
   "name": "python3"
  },
  "language_info": {
   "codemirror_mode": {
    "name": "ipython",
    "version": 3
   },
   "file_extension": ".py",
   "mimetype": "text/x-python",
   "name": "python",
   "nbconvert_exporter": "python",
   "pygments_lexer": "ipython3",
   "version": "3.11.5"
  }
 },
 "nbformat": 4,
 "nbformat_minor": 5
}
