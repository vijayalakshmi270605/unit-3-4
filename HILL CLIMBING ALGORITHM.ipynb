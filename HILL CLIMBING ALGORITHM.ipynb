{
 "cells": [
  {
   "cell_type": "markdown",
   "id": "20394ada",
   "metadata": {},
   "source": [
    "# HILL CLIMBING ALGORITHM"
   ]
  },
  {
   "cell_type": "code",
   "execution_count": null,
   "id": "2f57fa59",
   "metadata": {},
   "outputs": [],
   "source": [
    "TRAVELING SALES PERSON\n",
    "\n",
    "finding the best possible shortest route among these cities to travel\n",
    "\n",
    "chennai-banglore=347\n",
    "\n",
    "chennai-delhi=2196\n",
    "\n",
    "chennai-kolkata=1667\n",
    "\n",
    "banglore-delhi=2164\n",
    "\n",
    "banglore-kolkata=1875\n",
    "\n",
    "delhi-kolkata=1559\n",
    "\n",
    "All values in KMS"
   ]
  },
  {
   "cell_type": "markdown",
   "id": "77ccbc43",
   "metadata": {},
   "source": [
    "# Importing Random Library"
   ]
  },
  {
   "cell_type": "code",
   "execution_count": 10,
   "id": "a3e9f222",
   "metadata": {},
   "outputs": [],
   "source": [
    "import random"
   ]
  },
  {
   "cell_type": "markdown",
   "id": "43a09f63",
   "metadata": {},
   "source": [
    "# TRAVELLING SALES MAN CITY DISTANCES"
   ]
  },
  {
   "cell_type": "code",
   "execution_count": 11,
   "id": "8f3b9d5e",
   "metadata": {},
   "outputs": [],
   "source": [
    "tsp=[[0,347,2196,1667],\n",
    "    [347,0,2164,1875],\n",
    "    [2196,2164,0,1559],\n",
    "    [1667,1875,1559,0]]"
   ]
  },
  {
   "cell_type": "code",
   "execution_count": 12,
   "id": "9db04cda",
   "metadata": {},
   "outputs": [
    {
     "data": {
      "text/plain": [
       "4"
      ]
     },
     "execution_count": 12,
     "metadata": {},
     "output_type": "execute_result"
    }
   ],
   "source": [
    "len(tsp)"
   ]
  },
  {
   "cell_type": "code",
   "execution_count": 15,
   "id": "462d9103",
   "metadata": {},
   "outputs": [],
   "source": [
    "a=list(range(4))"
   ]
  },
  {
   "cell_type": "code",
   "execution_count": 16,
   "id": "c9a02ec5",
   "metadata": {},
   "outputs": [
    {
     "data": {
      "text/plain": [
       "[0, 1, 2, 3]"
      ]
     },
     "execution_count": 16,
     "metadata": {},
     "output_type": "execute_result"
    }
   ],
   "source": [
    "a"
   ]
  },
  {
   "cell_type": "markdown",
   "id": "902a5319",
   "metadata": {},
   "source": [
    "# RANDOM SOLUTION GENERATOR"
   ]
  },
  {
   "cell_type": "code",
   "execution_count": 13,
   "id": "25b58572",
   "metadata": {},
   "outputs": [],
   "source": [
    "def randomSolution(tsp):\n",
    "    cities=list(range(len(tsp)))\n",
    "    solution=[]\n",
    "    \n",
    "    for i in range(len(tsp)):\n",
    "        randomCity=cities[random.randint(0,len(cities)-1)]\n",
    "        solution.append(randomCity)\n",
    "        cities.remove(randomCity)\n",
    "        \n",
    "    return solution \n"
   ]
  },
  {
   "cell_type": "code",
   "execution_count": 14,
   "id": "ecb9a764",
   "metadata": {},
   "outputs": [
    {
     "name": "stdout",
     "output_type": "stream",
     "text": [
      "[1, 0, 2, 3]\n"
     ]
    }
   ],
   "source": [
    "solution=randomsolution(tsp)\n",
    "print(solution)"
   ]
  },
  {
   "cell_type": "markdown",
   "id": "9b7b08f6",
   "metadata": {},
   "source": [
    "# CALCULATING LENGTH OF ROUTE"
   ]
  },
  {
   "cell_type": "code",
   "execution_count": 17,
   "id": "106ec865",
   "metadata": {},
   "outputs": [],
   "source": [
    "def routelength(tsp,solution):\n",
    "    routelength=0\n",
    "    for i in range(len(solution)):\n",
    "        routelength += tsp[solution[i-1]][solution[i]]\n",
    "    return routelength"
   ]
  },
  {
   "cell_type": "code",
   "execution_count": 18,
   "id": "e368864e",
   "metadata": {},
   "outputs": [
    {
     "data": {
      "text/plain": [
       "5977"
      ]
     },
     "execution_count": 18,
     "metadata": {},
     "output_type": "execute_result"
    }
   ],
   "source": [
    "routelength(tsp,solution)"
   ]
  },
  {
   "cell_type": "markdown",
   "id": "aaf53e14",
   "metadata": {},
   "source": [
    "# GENERATING NEIGHBOURS"
   ]
  },
  {
   "cell_type": "code",
   "execution_count": 20,
   "id": "41dbd42e",
   "metadata": {},
   "outputs": [],
   "source": [
    "def getNeighbours(solution):\n",
    "    neighbours=[]\n",
    "    for i in range (len(solution)):\n",
    "        for j in range(i+1,len(solution)):\n",
    "            neighbour=solution.copy()\n",
    "            neighbour[i]=solution[j]\n",
    "            neighbour[j]=solution[i]\n",
    "            neighbours.append(neighbour)\n",
    "        return neighbours"
   ]
  },
  {
   "cell_type": "code",
   "execution_count": 21,
   "id": "c18c64f7",
   "metadata": {},
   "outputs": [
    {
     "name": "stdout",
     "output_type": "stream",
     "text": [
      "[[0, 1, 2, 3], [2, 0, 1, 3], [3, 0, 2, 1]]\n"
     ]
    }
   ],
   "source": [
    "neighbours=getNeighbours(solution)\n",
    "print(neighbours)"
   ]
  },
  {
   "cell_type": "markdown",
   "id": "d37e532b",
   "metadata": {},
   "source": [
    "# FINDING BEST NEIGHBOUR"
   ]
  },
  {
   "cell_type": "code",
   "execution_count": 38,
   "id": "d3d9c837",
   "metadata": {},
   "outputs": [],
   "source": [
    "def getBestNeighbour(tsp,neighbours):\n",
    "    bestRouteLength=routelength(tsp,neighbours[0])\n",
    "    bestNeighbour=neighbours[0]\n",
    "    for neighbour in neighbours:\n",
    "        currentRouteLength=routelength(tsp,neighbour)\n",
    "        if currentRouteLength<bestRouteLength:\n",
    "            bestRouteLength=currentRouteLength\n",
    "            bestNeighbour=neighbour\n",
    "        return bestNeighbour,bestRouteLength"
   ]
  },
  {
   "cell_type": "code",
   "execution_count": 39,
   "id": "4ff49cec",
   "metadata": {},
   "outputs": [
    {
     "data": {
      "text/plain": [
       "([0, 1, 2, 3], 5737)"
      ]
     },
     "execution_count": 39,
     "metadata": {},
     "output_type": "execute_result"
    }
   ],
   "source": [
    "getBestNeighbour(tsp,neighbours)"
   ]
  },
  {
   "cell_type": "markdown",
   "id": "69378ad2",
   "metadata": {},
   "source": [
    "# HILL CLIMBING ALGORITHM"
   ]
  },
  {
   "cell_type": "code",
   "execution_count": 41,
   "id": "71abb45d",
   "metadata": {},
   "outputs": [],
   "source": [
    "def hillclimbing(tsp):\n",
    "    currentSolution=randomSolution(tsp)\n",
    "    currentRouteLength=routelength(tsp,currentSolution)\n",
    "    neighbours=getNeighbours(currentSolution)\n",
    "    bestNeighbours,bestNeighbourRouteLength=getBestNeighbour(tsp,neighbours)\n",
    "    \n",
    "    while bestNeighbourRouteLength<currentRouteLength:\n",
    "        currentSolution=bestNeighboue\n",
    "        currentRouteLength=bestRouteLength\n",
    "        neighbour=getNeighbour(currentSolution)\n",
    "        bestNeighbour,bestNeighbourRouteLength=getBestNeighbour(tsp,neighbours)\n",
    "    \n",
    "    return currentSolution,currentRouteLength"
   ]
  },
  {
   "cell_type": "markdown",
   "id": "c54bb443",
   "metadata": {},
   "source": [
    "# HILL CLIMBING SOLUTION"
   ]
  },
  {
   "cell_type": "code",
   "execution_count": 43,
   "id": "cdb7e390",
   "metadata": {},
   "outputs": [
    {
     "name": "stdout",
     "output_type": "stream",
     "text": [
      "([1, 3, 2, 0], 5977)\n"
     ]
    }
   ],
   "source": [
    "print(hillclimbing(tsp))"
   ]
  },
  {
   "cell_type": "code",
   "execution_count": null,
   "id": "1c026571",
   "metadata": {},
   "outputs": [],
   "source": []
  }
 ],
 "metadata": {
  "kernelspec": {
   "display_name": "Python 3 (ipykernel)",
   "language": "python",
   "name": "python3"
  },
  "language_info": {
   "codemirror_mode": {
    "name": "ipython",
    "version": 3
   },
   "file_extension": ".py",
   "mimetype": "text/x-python",
   "name": "python",
   "nbconvert_exporter": "python",
   "pygments_lexer": "ipython3",
   "version": "3.11.5"
  }
 },
 "nbformat": 4,
 "nbformat_minor": 5
}
